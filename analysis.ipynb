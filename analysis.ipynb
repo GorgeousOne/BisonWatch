{
 "cells": [
  {
   "cell_type": "markdown",
   "id": "9b1831cd",
   "metadata": {},
   "source": [
    "# Kursdatenalyse"
   ]
  },
  {
   "cell_type": "code",
   "execution_count": 1,
   "id": "43f279b2",
   "metadata": {},
   "outputs": [],
   "source": [
    "datapath = \"crawler/database/semester_20242\"\n",
    "\n",
    "# get a list of all json files in the directory  \n",
    "import os\n",
    "import json\n",
    "\n",
    "def get_course_objects(datapath):\n",
    "    json_files = []\n",
    "    for file in os.listdir(datapath):\n",
    "        if file.endswith(\".json\"):\n",
    "            course = {}\n",
    "            with open(os.path.join(datapath, file), 'r') as f:\n",
    "                course = json.load(f)\n",
    "                course[\"html\"] = file.replace(\".json\", \".html\")\n",
    "            json_files.append(course)\n",
    "    return json_files\n",
    "\n",
    "# get the course objects\n",
    "courses = get_course_objects(datapath)[:20]"
   ]
  },
  {
   "cell_type": "code",
   "execution_count": 6,
   "id": "2d7ca183",
   "metadata": {},
   "outputs": [
    {
     "name": "stdout",
     "output_type": "stream",
     "text": [
      "{'Fakultät': 'Fakultät Medien',\n",
      " 'Grunddaten zur Veranstaltung': {'Erwartete Teilnehmer/-innen': 'missing',\n",
      "                                  'Hyperlink': 'https://moodle.uni-weimar.de/course/view.php?id=45500',\n",
      "                                  'Max. Teilnehmer/-innen': 'missing',\n",
      "                                  'Rhythmus': 'jedes 2. Semester',\n",
      "                                  'SWS': '4',\n",
      "                                  'Semester': 'WiSe 2024/25',\n",
      "                                  'Sprache': 'englisch',\n",
      "                                  'Veranstaltungsart': 'Vorlesung',\n",
      "                                  'Veranstaltungsnummer': '4256303',\n",
      "                                  'Weitere Links': 'http://www.uni-weimar.de/media/cv',\n",
      "                                  'Zugeordnetes Modul': 'missing'},\n",
      " 'Personen': [{'faculty': 'Fakultät Medien',\n",
      "               'regular_name': 'Volker Rodehorst'},\n",
      "              {'faculty': 'Fakultät Medien',\n",
      "               'regular_name': 'Mariya Kaisheva'}],\n",
      " 'Weitere Angaben zur Veranstaltung': {'Bemerkung': 'Die Einschreibung für den '\n",
      "                                                    'Moodle-Kurs fängt am 25. '\n",
      "                                                    'September 2023 an.',\n",
      "                                       'Beschreibung': 'Die Vorlesung gibt '\n",
      "                                                       'eine Einführung in die '\n",
      "                                                       'Grundlagen der '\n",
      "                                                       'Sensor-Orientierung '\n",
      "                                                       'und 3D-Rekonstruktion. '\n",
      "                                                       'Das Ziel ist ein '\n",
      "                                                       'Verständnis der '\n",
      "                                                       'Prinzipien, Methoden '\n",
      "                                                       'und Anwendungen der '\n",
      "                                                       'bildbasierten '\n",
      "                                                       'Vermessung. Behandelt '\n",
      "                                                       'werden unter anderem '\n",
      "                                                       'die algebraische '\n",
      "                                                       'projektive Geometrie, '\n",
      "                                                       'Abbildungsgeometrie, '\n",
      "                                                       'Kalibrierung, '\n",
      "                                                       'Orientierungsverfahren, '\n",
      "                                                       'Stereo-Bildzuordnung '\n",
      "                                                       'und weitere Verfahren '\n",
      "                                                       'zur '\n",
      "                                                       'Oberflächenrekonstruktion.',\n",
      "                                       'Leistungsnachweis': 'Erfolgreiche '\n",
      "                                                            'Bearbeitung der '\n",
      "                                                            'Übungen und des '\n",
      "                                                            'Projektes mit '\n",
      "                                                            'abschließender '\n",
      "                                                            'Klausur',\n",
      "                                       'Literatur': 'V. Rodehorst: lecture '\n",
      "                                                    'notes, online.W. Förstner '\n",
      "                                                    'and B.P. Wrobel: '\n",
      "                                                    'Photogrammetric Computer '\n",
      "                                                    'Vision – Statistics, '\n",
      "                                                    'Geometry, Orientation and '\n",
      "                                                    'Reconstruction, Springer, '\n",
      "                                                    '2016.R. Hartley and A. '\n",
      "                                                    'Zisserman: Multiple View '\n",
      "                                                    'Geometry in Computer '\n",
      "                                                    'Vision, 2. Edition, '\n",
      "                                                    'Cambridge University '\n",
      "                                                    'Press, 2003.O. Faugeras '\n",
      "                                                    'and Q.-T. Luong: The '\n",
      "                                                    'Geometry from Multiple '\n",
      "                                                    'Images, MIT Press, 2004R. '\n",
      "                                                    'Szeliski: Computer '\n",
      "                                                    'vision: algorithms and '\n",
      "                                                    'applications 2Ed, '\n",
      "                                                    'Springer, 2022.',\n",
      "                                       'Voraussetzungen': 'Einführung in die '\n",
      "                                                          'Informatik, '\n",
      "                                                          'Grundlagen '\n",
      "                                                          'Programmiersprachen',\n",
      "                                       'Zielgruppe': 'M.Sc. Computer Science '\n",
      "                                                     'for Digital Media '\n",
      "                                                     '(CS4DM),M.Sc. '\n",
      "                                                     'Human-Computer '\n",
      "                                                     'Interaction (HCI),B.Sc. '\n",
      "                                                     'Medieninformatik '\n",
      "                                                     '(MI),M.Sc. Digital '\n",
      "                                                     'Engineering (DEM),offen '\n",
      "                                                     'für interessierte '\n",
      "                                                     'Studierende aus den '\n",
      "                                                     'Masterstudiengängen der '\n",
      "                                                     'Fakultät B'},\n",
      " 'Zeit': {'Bemerkung': ', <p>written examination</p>,',\n",
      "          'Tag': 'Mo.',\n",
      "          'Terminrhythmus': 'Einzel',\n",
      "          'Zeit': '13:30 bis 16:00'},\n",
      " 'html': '4256303.html'}\n"
     ]
    }
   ],
   "source": [
    "from pprint import pprint\n",
    "pprint(courses[12])"
   ]
  },
  {
   "cell_type": "code",
   "execution_count": 7,
   "id": "4a8c0e09",
   "metadata": {},
   "outputs": [
    {
     "ename": "ModuleNotFoundError",
     "evalue": "No module named 'spacy'",
     "output_type": "error",
     "traceback": [
      "\u001b[31m---------------------------------------------------------------------------\u001b[39m",
      "\u001b[31mModuleNotFoundError\u001b[39m                       Traceback (most recent call last)",
      "\u001b[36mCell\u001b[39m\u001b[36m \u001b[39m\u001b[32mIn[7]\u001b[39m\u001b[32m, line 6\u001b[39m\n\u001b[32m      3\u001b[39m description = courses[\u001b[32m12\u001b[39m][\u001b[33m\"\u001b[39m\u001b[33mWeitere Angaben zur Veranstaltung\u001b[39m\u001b[33m\"\u001b[39m][\u001b[33m\"\u001b[39m\u001b[33mBeschreibung\u001b[39m\u001b[33m\"\u001b[39m]\n\u001b[32m      5\u001b[39m \u001b[38;5;66;03m# use nlp to extract tags\u001b[39;00m\n\u001b[32m----> \u001b[39m\u001b[32m6\u001b[39m \u001b[38;5;28;01mimport\u001b[39;00m\u001b[38;5;250m \u001b[39m\u001b[34;01mspacy\u001b[39;00m\n\u001b[32m      7\u001b[39m nlp = spacy.load(\u001b[33m\"\u001b[39m\u001b[33mde_core_news_sm\u001b[39m\u001b[33m\"\u001b[39m)\n\u001b[32m      9\u001b[39m doc = nlp(description)\n",
      "\u001b[31mModuleNotFoundError\u001b[39m: No module named 'spacy'"
     ]
    }
   ],
   "source": [
    "# extract tags from description\n",
    "\n",
    "description = courses[12][\"Weitere Angaben zur Veranstaltung\"][\"Beschreibung\"]\n",
    "\n",
    "# use nlp to extract tags\n",
    "import spacy\n",
    "nlp = spacy.load(\"de_core_news_sm\")\n",
    "\n",
    "doc = nlp(description)\n",
    "tags = []\n",
    "for ent in doc.ents:\n",
    "    tags.append(ent.text)\n",
    "print(tags)"
   ]
  }
 ],
 "metadata": {
  "kernelspec": {
   "display_name": "main",
   "language": "python",
   "name": "python3"
  },
  "language_info": {
   "codemirror_mode": {
    "name": "ipython",
    "version": 3
   },
   "file_extension": ".py",
   "mimetype": "text/x-python",
   "name": "python",
   "nbconvert_exporter": "python",
   "pygments_lexer": "ipython3",
   "version": "3.13.2"
  }
 },
 "nbformat": 4,
 "nbformat_minor": 5
}
